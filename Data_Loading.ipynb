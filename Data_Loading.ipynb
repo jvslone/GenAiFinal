{
  "cells": [
    {
      "cell_type": "markdown",
      "id": "af36cc78",
      "metadata": {
        "id": "af36cc78"
      },
      "source": [
        "## Import Statements"
      ]
    },
    {
      "cell_type": "code",
      "execution_count": 47,
      "id": "9cb8b1d0",
      "metadata": {
        "id": "9cb8b1d0",
        "outputId": "98b2b839-71ce-48a9-8ce8-4072877960db"
      },
      "outputs": [],
      "source": [
        "import numpy as np\n",
        "import matplotlib.pyplot as plt\n",
        "import pandas as pd\n",
        "import time as timer\n",
        "import pickle"
      ]
    },
    {
      "cell_type": "markdown",
      "id": "fc4e5db3",
      "metadata": {
        "id": "fc4e5db3"
      },
      "source": [
        "## Hyperparameters"
      ]
    },
    {
      "cell_type": "code",
      "execution_count": 48,
      "id": "00b8607a",
      "metadata": {
        "id": "00b8607a"
      },
      "outputs": [],
      "source": [
        "Input_File = 'ChangeDataset622v1.pickle'"
      ]
    },
    {
      "cell_type": "markdown",
      "id": "1f32cd3c",
      "metadata": {
        "id": "1f32cd3c"
      },
      "source": [
        "## Loading In Data"
      ]
    },
    {
      "cell_type": "code",
      "execution_count": null,
      "id": "635cfd7c",
      "metadata": {
        "id": "635cfd7c"
      },
      "outputs": [
        {
          "name": "stdout",
          "output_type": "stream",
          "text": [
            "Loading Dataset -- 'ChangeDataset622v1.pickle'\n",
            "Dataset took 1.53s to load\n",
            "(1000, 6, 1000, 50)\n"
          ]
        }
      ],
      "source": [
        "import numpy as np\n",
        "import matplotlib.pyplot as plt\n",
        "import pandas as pd\n",
        "import time as timer\n",
        "import pickle\n",
        "\n",
        "Input_File = 'ChangeDataset622v1.pickle'\n",
        "\n",
        "def ReadPickle(filename: str) -> dict:\n",
        "  '''Reads in data from given pickle files, outputs a dictionary'''\n",
        "  try:\n",
        "    Data = pd.read_pickle(filename)\n",
        "  except FileNotFoundError:\n",
        "    raise FileNotFoundError(f'Error reading {filename}')\n",
        "  return Data\n",
        "\n",
        "print(f\"Loading Dataset -- '{Input_File}'\")\n",
        "t_Load1a = timer.time()\n",
        "Data = ReadPickle(Input_File)\n",
        "t_Load2a = timer.time()\n",
        "print(f\"Dataset took {round(t_Load2a-t_Load1a,2)}s to load\")\n",
        "\n",
        "D_data = np.array([np.tile(sample['Diffusion'],(1000,1)) for sample in Data])\n",
        "V_data = np.array([np.tile(sample['Convection'],(1000,1)) for sample in Data])\n",
        "R_data = np.array([np.tile(sample['Rho'],(1000,1)) for sample in Data])\n",
        "T_data = np.array([np.tile(sample['Time'],(50, 1)).T for sample in Data])\n",
        "N_data = np.array([Sample['Density'] for Sample in Data])\n",
        "S_data = np.array([Sample['Source'].T for Sample in Data])\n",
        "# print(D_data.shape); # print(V_data.shape); # print(R_data.shape)\n",
        "# print(T_data.shape); # print(N_data.shape); # print(S_data.shape)\n",
        "Database = np.array([np.array([D_data[i],V_data[i],R_data[i],T_data[i],N_data[i],S_data[i]]) for i in range(len(Data))])\n",
        "print(Database.shape)"
      ]
    },
    {
      "cell_type": "code",
      "execution_count": null,
      "id": "708da15f",
      "metadata": {},
      "outputs": [],
      "source": []
    }
  ],
  "metadata": {
    "colab": {
      "provenance": []
    },
    "kernelspec": {
      "display_name": "base",
      "language": "python",
      "name": "python3"
    },
    "language_info": {
      "codemirror_mode": {
        "name": "ipython",
        "version": 3
      },
      "file_extension": ".py",
      "mimetype": "text/x-python",
      "name": "python",
      "nbconvert_exporter": "python",
      "pygments_lexer": "ipython3",
      "version": "3.11.5"
    }
  },
  "nbformat": 4,
  "nbformat_minor": 5
}
